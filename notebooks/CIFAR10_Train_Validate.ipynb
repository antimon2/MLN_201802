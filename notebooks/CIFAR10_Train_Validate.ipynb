{
 "cells": [
  {
   "cell_type": "markdown",
   "metadata": {},
   "source": [
    "original: https://github.com/tensorflow/models/tree/master/tutorials/image/cifar10"
   ]
  },
  {
   "cell_type": "code",
   "execution_count": null,
   "metadata": {
    "ExecuteTime": {
     "end_time": "2018-01-24T05:03:41.607470Z",
     "start_time": "2018-01-24T05:03:41.599412Z"
    },
    "collapsed": true
   },
   "outputs": [],
   "source": [
    "import os\n",
    "import re\n",
    "import sys\n",
    "import tarfile"
   ]
  },
  {
   "cell_type": "code",
   "execution_count": null,
   "metadata": {
    "ExecuteTime": {
     "end_time": "2018-01-24T05:03:42.288664Z",
     "start_time": "2018-01-24T05:03:42.285749Z"
    },
    "collapsed": true
   },
   "outputs": [],
   "source": [
    "from datetime import datetime\n",
    "import time"
   ]
  },
  {
   "cell_type": "code",
   "execution_count": null,
   "metadata": {
    "ExecuteTime": {
     "end_time": "2018-01-24T05:03:43.926890Z",
     "start_time": "2018-01-24T05:03:42.854389Z"
    },
    "collapsed": true
   },
   "outputs": [],
   "source": [
    "from six.moves import urllib\n",
    "import tensorflow as tf\n",
    "import numpy as np"
   ]
  },
  {
   "cell_type": "code",
   "execution_count": null,
   "metadata": {
    "ExecuteTime": {
     "end_time": "2018-01-24T05:03:43.932955Z",
     "start_time": "2018-01-24T05:03:43.928704Z"
    },
    "collapsed": true
   },
   "outputs": [],
   "source": [
    "# Process images of this size. Note that this differs from the original CIFAR\n",
    "# image size of 32 x 32. If one alters this number, then the entire model\n",
    "# architecture will change and any model would need to be retrained.\n",
    "IMAGE_SIZE = 24"
   ]
  },
  {
   "cell_type": "code",
   "execution_count": null,
   "metadata": {
    "ExecuteTime": {
     "end_time": "2018-01-24T05:03:45.789841Z",
     "start_time": "2018-01-24T05:03:45.786187Z"
    },
    "collapsed": true
   },
   "outputs": [],
   "source": [
    "# Global constants describing the CIFAR-10 data set.\n",
    "NUM_CLASSES = 10\n",
    "NUM_EXAMPLES_PER_EPOCH_FOR_TRAIN = 50000\n",
    "NUM_EXAMPLES_PER_EPOCH_FOR_EVAL = 10000"
   ]
  },
  {
   "cell_type": "code",
   "execution_count": null,
   "metadata": {
    "ExecuteTime": {
     "end_time": "2018-01-24T05:03:48.736501Z",
     "start_time": "2018-01-24T05:03:48.733240Z"
    },
    "collapsed": true
   },
   "outputs": [],
   "source": [
    "# Constants describing the training process.\n",
    "INITIAL_LEARNING_RATE = 0.001       # Initial learning rate."
   ]
  },
  {
   "cell_type": "code",
   "execution_count": null,
   "metadata": {
    "ExecuteTime": {
     "end_time": "2018-01-24T05:03:50.148469Z",
     "start_time": "2018-01-24T05:03:50.145701Z"
    },
    "collapsed": true
   },
   "outputs": [],
   "source": [
    "DATA_URL = 'https://www.cs.toronto.edu/~kriz/cifar-10-binary.tar.gz'"
   ]
  },
  {
   "cell_type": "markdown",
   "metadata": {},
   "source": [
    "## Download and Extract (if not yet)"
   ]
  },
  {
   "cell_type": "code",
   "execution_count": null,
   "metadata": {
    "ExecuteTime": {
     "end_time": "2018-01-24T05:03:51.387899Z",
     "start_time": "2018-01-24T05:03:51.365894Z"
    },
    "collapsed": true
   },
   "outputs": [],
   "source": [
    "def maybe_download_and_extract(dest_directory='./', DATA_URL=DATA_URL):\n",
    "    \"\"\"Download and extract the tarball from Alex's website.\"\"\"\n",
    "    if not os.path.exists(dest_directory):\n",
    "        os.makedirs(dest_directory)\n",
    "    filename = DATA_URL.split('/')[-1]\n",
    "    filepath = os.path.join(dest_directory, filename)\n",
    "    if not os.path.exists(filepath):\n",
    "        def _progress(count, block_size, total_size):\n",
    "            sys.stdout.write('\\r>> Downloading %s %.1f%%' % (filename,\n",
    "                    float(count * block_size) / float(total_size) * 100.0))\n",
    "            sys.stdout.flush()\n",
    "        filepath, _ = urllib.request.urlretrieve(DATA_URL, filepath, _progress)\n",
    "        print()\n",
    "        statinfo = os.stat(filepath)\n",
    "        print('Successfully downloaded', filename, statinfo.st_size, 'bytes.')\n",
    "    extracted_dir_path = os.path.join(dest_directory, 'cifar-10-batches-bin')\n",
    "    if not os.path.exists(extracted_dir_path):\n",
    "        tarfile.open(filepath, 'r:gz').extractall(dest_directory)"
   ]
  },
  {
   "cell_type": "code",
   "execution_count": null,
   "metadata": {
    "ExecuteTime": {
     "end_time": "2018-01-24T05:03:52.064888Z",
     "start_time": "2018-01-24T05:03:52.061165Z"
    },
    "collapsed": true
   },
   "outputs": [],
   "source": [
    "maybe_download_and_extract()"
   ]
  },
  {
   "cell_type": "markdown",
   "metadata": {},
   "source": [
    "## Input Data (Definition)"
   ]
  },
  {
   "cell_type": "code",
   "execution_count": null,
   "metadata": {
    "ExecuteTime": {
     "end_time": "2018-01-24T05:03:53.571684Z",
     "start_time": "2018-01-24T05:03:53.532720Z"
    },
    "collapsed": true
   },
   "outputs": [],
   "source": [
    "def read_cifar10(filename_queue):\n",
    "    \"\"\"Reads and parses examples from CIFAR10 data files.\"\"\"\n",
    "\n",
    "    class CIFAR10Record(object):\n",
    "        pass\n",
    "    result = CIFAR10Record()\n",
    "\n",
    "    # Dimensions of the images in the CIFAR-10 dataset.\n",
    "    # See http://www.cs.toronto.edu/~kriz/cifar.html for a description of the\n",
    "    # input format.\n",
    "    label_size = 1  # 2 for CIFAR-100\n",
    "    image_height = 32\n",
    "    image_width = 32\n",
    "    result.depth = 3\n",
    "    image_size = image_height * image_width * result.depth\n",
    "    # Every record consists of a label followed by the image, with a\n",
    "    # fixed number of bytes for each.\n",
    "    record_size = label_size + image_size\n",
    "\n",
    "    # Read a record, getting filenames from the filename_queue.  No\n",
    "    # header or footer in the CIFAR-10 format, so we leave header_bytes\n",
    "    # and footer_bytes at their default of 0.\n",
    "    reader = tf.FixedLengthRecordReader(record_bytes=record_size)\n",
    "    _, value = reader.read(filename_queue)\n",
    "\n",
    "    # Convert from a string to a vector of uint8 that is record_bytes long.\n",
    "    record_bytes = tf.decode_raw(value, tf.uint8)\n",
    "\n",
    "    # The first bytes represent the label, which we convert from uint8->int32.\n",
    "    result.label = tf.cast(\n",
    "            tf.strided_slice(record_bytes, [0], [label_size]), tf.int32)\n",
    "\n",
    "    # The remaining bytes after the label represent the image, which we reshape\n",
    "    # from [depth * height * width] to [depth, height, width].\n",
    "    depth_major = tf.reshape(\n",
    "            tf.strided_slice(record_bytes, [label_size],\n",
    "                             [label_size + image_size]),\n",
    "            [result.depth, image_height, image_width])\n",
    "    # Convert from [depth, height, width] to [height, width, depth].\n",
    "    result.uint8image = tf.transpose(depth_major, [1, 2, 0])\n",
    "\n",
    "    return result"
   ]
  },
  {
   "cell_type": "code",
   "execution_count": null,
   "metadata": {
    "ExecuteTime": {
     "end_time": "2018-01-24T05:03:54.796549Z",
     "start_time": "2018-01-24T05:03:54.780920Z"
    },
    "collapsed": true
   },
   "outputs": [],
   "source": [
    "def _generate_image_and_label_batch(image, label, min_queue_examples, batch_size, shuffle):\n",
    "    \"\"\"Construct a queued batch of images and labels.\"\"\"\n",
    "    # Create a queue that shuffles the examples, and then\n",
    "    # read 'batch_size' images + labels from the example queue.\n",
    "    num_preprocess_threads = 16\n",
    "    if shuffle:\n",
    "        images, label_batch = tf.train.shuffle_batch(\n",
    "                [image, label],\n",
    "                batch_size=batch_size,\n",
    "                num_threads=num_preprocess_threads,\n",
    "                capacity=min_queue_examples + 3 * batch_size,\n",
    "                min_after_dequeue=min_queue_examples)\n",
    "    else:\n",
    "        images, label_batch = tf.train.batch(\n",
    "                [image, label],\n",
    "                batch_size=batch_size,\n",
    "                num_threads=num_preprocess_threads,\n",
    "                capacity=min_queue_examples + 3 * batch_size)\n",
    "\n",
    "    # Display the training images in the visualizer.\n",
    "    tf.summary.image('images', images)\n",
    "\n",
    "    return images, tf.reshape(label_batch, [batch_size])"
   ]
  },
  {
   "cell_type": "code",
   "execution_count": null,
   "metadata": {
    "ExecuteTime": {
     "end_time": "2018-01-24T05:03:56.418238Z",
     "start_time": "2018-01-24T05:03:56.352891Z"
    },
    "collapsed": true
   },
   "outputs": [],
   "source": [
    "def train_inputs(data_dir, batch_size):\n",
    "    \"\"\"Construct distorted input for CIFAR training using the Reader ops.\"\"\"\n",
    "    filenames = [os.path.join(data_dir, 'data_batch_{0:d}.bin'.format(i))\n",
    "                 for i in range(1, 6)]\n",
    "\n",
    "    # Create a queue that produces the filenames to read.\n",
    "    filename_queue = tf.train.string_input_producer(filenames)\n",
    "\n",
    "    # Read examples from files in the filename queue.\n",
    "    read_input = read_cifar10(filename_queue)\n",
    "    reshaped_image = tf.cast(read_input.uint8image, tf.float32)\n",
    "\n",
    "    height = IMAGE_SIZE\n",
    "    width = IMAGE_SIZE\n",
    "\n",
    "    # Image processing for training the network. Note the many random\n",
    "    # distortions applied to the image.\n",
    "\n",
    "    # Randomly crop a [height, width] section of the image.\n",
    "    distorted_image = tf.random_crop(reshaped_image, [height, width, 3])\n",
    "\n",
    "    # Randomly flip the image horizontally.\n",
    "    distorted_image = tf.image.random_flip_left_right(distorted_image)\n",
    "\n",
    "    # Because these operations are not commutative, consider randomizing\n",
    "    # the order their operation.\n",
    "    # NOTE: since per_image_standardization zeros the mean and makes\n",
    "    # the stddev unit, this likely has no effect see tensorflow#1458.\n",
    "    distorted_image = tf.image.random_brightness(distorted_image, max_delta=63)\n",
    "    distorted_image = tf.image.random_contrast(distorted_image, lower=0.2, upper=1.8)\n",
    "\n",
    "    # Subtract off the mean and divide by the variance of the pixels.\n",
    "    float_image = tf.image.per_image_standardization(distorted_image)\n",
    "\n",
    "    # Set the shapes of tensors.\n",
    "    float_image.set_shape([height, width, 3])\n",
    "    read_input.label.set_shape([1])\n",
    "\n",
    "    # Ensure that the random shuffling has good mixing properties.\n",
    "    min_fraction_of_examples_in_queue = 0.4\n",
    "    min_queue_examples = int(NUM_EXAMPLES_PER_EPOCH_FOR_TRAIN *\n",
    "                             min_fraction_of_examples_in_queue)\n",
    "    print ('Filling queue with %d CIFAR images before starting to train. '\n",
    "                 'This will take a few minutes.' % min_queue_examples)\n",
    "\n",
    "    # Generate a batch of images and labels by building up a queue of examples.\n",
    "    return _generate_image_and_label_batch(float_image, read_input.label,\n",
    "                                           min_queue_examples, batch_size,\n",
    "                                           shuffle=True)"
   ]
  },
  {
   "cell_type": "code",
   "execution_count": null,
   "metadata": {
    "ExecuteTime": {
     "end_time": "2018-01-24T05:03:57.512810Z",
     "start_time": "2018-01-24T05:03:57.461346Z"
    },
    "collapsed": true
   },
   "outputs": [],
   "source": [
    "def test_inputs(data_dir, batch_size, train=False):\n",
    "    \"\"\"Construct input for CIFAR evaluation using the Reader ops.\"\"\"\n",
    "    if train:\n",
    "        filenames = [os.path.join(data_dir, 'data_batch_{0:d}.bin'.format(i))\n",
    "                     for i in range(1, 6)]\n",
    "        # num_examples_per_epoch = NUM_EXAMPLES_PER_EPOCH_FOR_TRAIN\n",
    "    else:\n",
    "        filenames = [os.path.join(data_dir, 'test_batch.bin')]\n",
    "    num_examples_per_epoch = NUM_EXAMPLES_PER_EPOCH_FOR_EVAL\n",
    "\n",
    "    # Create a queue that produces the filenames to read.\n",
    "    filename_queue = tf.train.string_input_producer(filenames)\n",
    "\n",
    "    # Read examples from files in the filename queue.\n",
    "    read_input = read_cifar10(filename_queue)\n",
    "    reshaped_image = tf.cast(read_input.uint8image, tf.float32)\n",
    "\n",
    "    height = IMAGE_SIZE\n",
    "    width = IMAGE_SIZE\n",
    "\n",
    "    # Image processing for evaluation.\n",
    "    # Crop the central [height, width] of the image.\n",
    "    resized_image = tf.image.resize_image_with_crop_or_pad(reshaped_image, height, width)\n",
    "\n",
    "    # Subtract off the mean and divide by the variance of the pixels.\n",
    "    float_image = tf.image.per_image_standardization(resized_image)\n",
    "\n",
    "    # Set the shapes of tensors.\n",
    "    float_image.set_shape([height, width, 3])\n",
    "    read_input.label.set_shape([1])\n",
    "\n",
    "    # Ensure that the random shuffling has good mixing properties.\n",
    "    min_fraction_of_examples_in_queue = 0.4\n",
    "    min_queue_examples = int(num_examples_per_epoch * min_fraction_of_examples_in_queue)\n",
    "\n",
    "    # Generate a batch of images and labels by building up a queue of examples.\n",
    "    return _generate_image_and_label_batch(float_image, read_input.label,\n",
    "                                           min_queue_examples, batch_size,\n",
    "                                           shuffle=False)"
   ]
  },
  {
   "cell_type": "markdown",
   "metadata": {},
   "source": [
    "## For Trainings"
   ]
  },
  {
   "cell_type": "code",
   "execution_count": null,
   "metadata": {
    "ExecuteTime": {
     "end_time": "2018-01-24T05:03:59.857735Z",
     "start_time": "2018-01-24T05:03:59.852313Z"
    },
    "collapsed": true
   },
   "outputs": [],
   "source": [
    "def _activation_summary(x):\n",
    "    \"\"\"Helper to create summaries for activations.\"\"\"\n",
    "    tensor_name = x.op.name\n",
    "    tf.summary.histogram(tensor_name + '/activations', x)\n",
    "    tf.summary.scalar(tensor_name + '/sparsity', tf.nn.zero_fraction(x))"
   ]
  },
  {
   "cell_type": "code",
   "execution_count": null,
   "metadata": {
    "ExecuteTime": {
     "end_time": "2018-01-24T05:04:00.308923Z",
     "start_time": "2018-01-24T05:04:00.300227Z"
    },
    "collapsed": true
   },
   "outputs": [],
   "source": [
    "def _variable_on_cpu(name, shape, initializer):\n",
    "    \"\"\"Helper to create a Variable stored on CPU memory.\"\"\"\n",
    "    with tf.device('/cpu:0'):\n",
    "        var = tf.get_variable(name, shape, initializer=initializer, dtype=tf.float32)\n",
    "    return var"
   ]
  },
  {
   "cell_type": "code",
   "execution_count": null,
   "metadata": {
    "ExecuteTime": {
     "end_time": "2018-01-24T05:04:00.787736Z",
     "start_time": "2018-01-24T05:04:00.778241Z"
    },
    "collapsed": true
   },
   "outputs": [],
   "source": [
    "def _variable_with_stddev(name, shape, stddev, wd=None):\n",
    "    \"\"\"Helper to create an initialized Variable with truncated-normal initializer.\"\"\"\n",
    "    initializer = tf.truncated_normal_initializer(stddev=stddev, dtype=tf.float32)\n",
    "    var = _variable_on_cpu(name, shape, initializer)\n",
    "    if wd is not None:\n",
    "        weight_decay = tf.multiply(tf.nn.l2_loss(var), wd, name='weight_loss')\n",
    "        tf.add_to_collection('losses', weight_decay)\n",
    "    return var"
   ]
  },
  {
   "cell_type": "code",
   "execution_count": null,
   "metadata": {
    "ExecuteTime": {
     "end_time": "2018-01-24T05:04:02.229807Z",
     "start_time": "2018-01-24T05:04:02.008379Z"
    },
    "collapsed": true
   },
   "outputs": [],
   "source": [
    "def inference(images, batch_size=None):\n",
    "    \"\"\"Build the CIFAR-10 model.\"\"\"\n",
    "    if batch_size is None:\n",
    "        batch_size = images.get_shape()[0].value\n",
    "    # conv1\n",
    "    with tf.variable_scope('conv1') as scope:\n",
    "        kernel = _variable_with_stddev('weights', shape=[5, 5, 3, 64], stddev=5e-2)\n",
    "        conv = tf.nn.conv2d(images, kernel, [1, 1, 1, 1], padding='SAME')\n",
    "        biases = _variable_on_cpu('biases', [64], tf.constant_initializer(0.0))\n",
    "        pre_activation = tf.nn.bias_add(conv, biases)\n",
    "        conv1 = tf.nn.relu(pre_activation, name=scope.name)\n",
    "        _activation_summary(conv1)\n",
    "\n",
    "    # pool1\n",
    "    pool1 = tf.nn.max_pool(conv1, ksize=[1, 3, 3, 1], strides=[1, 2, 2, 1],\n",
    "                           padding='SAME', name='pool1')\n",
    "    # norm1\n",
    "    norm1 = tf.nn.lrn(pool1, 4, bias=1.0, alpha=0.001 / 9.0, beta=0.75, name='norm1')\n",
    "\n",
    "    # conv2\n",
    "    with tf.variable_scope('conv2') as scope:\n",
    "        kernel = _variable_with_stddev('weights', shape=[5, 5, 64, 64], stddev=5e-2)\n",
    "        conv = tf.nn.conv2d(norm1, kernel, [1, 1, 1, 1], padding='SAME')\n",
    "        biases = _variable_on_cpu('biases', [64], tf.constant_initializer(0.1))\n",
    "        pre_activation = tf.nn.bias_add(conv, biases)\n",
    "        conv2 = tf.nn.relu(pre_activation, name=scope.name)\n",
    "        _activation_summary(conv2)\n",
    "\n",
    "    # norm2\n",
    "    norm2 = tf.nn.lrn(conv2, 4, bias=1.0, alpha=0.001 / 9.0, beta=0.75, name='norm2')\n",
    "    # pool2\n",
    "    pool2 = tf.nn.max_pool(norm2, ksize=[1, 3, 3, 1],\n",
    "                           strides=[1, 2, 2, 1], padding='SAME', name='pool2')\n",
    "\n",
    "    # local3\n",
    "    with tf.variable_scope('local3') as scope:\n",
    "        # Move everything into depth so we can perform a single matrix multiply.\n",
    "        reshape = tf.reshape(pool2, [batch_size, -1])\n",
    "        dim = reshape.get_shape()[1].value\n",
    "        weights = _variable_with_stddev('weights', shape=[dim, 384], stddev=0.04, wd=0.004)\n",
    "        biases = _variable_on_cpu('biases', [384], tf.constant_initializer(0.1))\n",
    "        local3 = tf.nn.relu(tf.matmul(reshape, weights) + biases, name=scope.name)\n",
    "        _activation_summary(local3)\n",
    "\n",
    "    # local4\n",
    "    with tf.variable_scope('local4') as scope:\n",
    "        weights = _variable_with_stddev('weights', shape=[384, 192], stddev=0.04, wd=0.004)\n",
    "        biases = _variable_on_cpu('biases', [192], tf.constant_initializer(0.1))\n",
    "        local4 = tf.nn.relu(tf.matmul(local3, weights) + biases, name=scope.name)\n",
    "        _activation_summary(local4)\n",
    "\n",
    "    # linear layer(WX + b),\n",
    "    # We don't apply softmax here because\n",
    "    # tf.nn.sparse_softmax_cross_entropy_with_logits accepts the unscaled logits\n",
    "    # and performs the softmax internally for efficiency.\n",
    "    with tf.variable_scope('softmax_linear') as scope:\n",
    "        weights = _variable_with_stddev('weights', [192, NUM_CLASSES], stddev=1/192.0)\n",
    "        biases = _variable_on_cpu('biases', [NUM_CLASSES], tf.constant_initializer(0.0))\n",
    "        softmax_linear = tf.add(tf.matmul(local4, weights), biases, name=scope.name)\n",
    "        _activation_summary(softmax_linear)\n",
    "\n",
    "    return softmax_linear"
   ]
  },
  {
   "cell_type": "code",
   "execution_count": null,
   "metadata": {
    "ExecuteTime": {
     "end_time": "2018-01-24T05:04:02.824414Z",
     "start_time": "2018-01-24T05:04:02.815185Z"
    },
    "collapsed": true
   },
   "outputs": [],
   "source": [
    "def loss(logits, labels):\n",
    "    \"\"\"Add L2Loss to all the trainable variables.\"\"\"\n",
    "    # Calculate the average cross entropy loss across the batch.\n",
    "    labels = tf.cast(labels, tf.int64)\n",
    "    cross_entropy = tf.nn.sparse_softmax_cross_entropy_with_logits(\n",
    "        labels=labels, logits=logits, name='cross_entropy_per_example')\n",
    "    cross_entropy_mean = tf.reduce_mean(cross_entropy, name='cross_entropy')\n",
    "    tf.add_to_collection('losses', cross_entropy_mean)\n",
    "\n",
    "    # The total loss is defined as the cross entropy loss plus all of the weight\n",
    "    # decay terms (L2 loss).\n",
    "    return tf.add_n(tf.get_collection('losses'), name='total_loss')"
   ]
  },
  {
   "cell_type": "code",
   "execution_count": null,
   "metadata": {
    "ExecuteTime": {
     "end_time": "2018-01-24T05:04:03.540516Z",
     "start_time": "2018-01-24T05:04:03.527095Z"
    },
    "collapsed": true
   },
   "outputs": [],
   "source": [
    "def _add_loss_summaries(total_loss):\n",
    "    \"\"\"Add summaries for losses in CIFAR-10 model.\"\"\"\n",
    "    # Compute the moving average of all individual losses and the total loss.\n",
    "    loss_averages = tf.train.ExponentialMovingAverage(0.9, name='avg')\n",
    "    losses = tf.get_collection('losses')\n",
    "    loss_averages_op = loss_averages.apply(losses + [total_loss])\n",
    "\n",
    "    # Attach a scalar summary to all individual losses and the total loss; do the\n",
    "    # same for the averaged version of the losses.\n",
    "    for l in losses + [total_loss]:\n",
    "        # Name each loss as '(raw)' and name the moving average version of the loss\n",
    "        # as the original loss name.\n",
    "        tf.summary.scalar(l.op.name + '__raw_', l)\n",
    "        tf.summary.scalar(l.op.name, loss_averages.average(l))\n",
    "\n",
    "    return loss_averages_op"
   ]
  },
  {
   "cell_type": "code",
   "execution_count": null,
   "metadata": {
    "ExecuteTime": {
     "end_time": "2018-01-24T05:04:04.862657Z",
     "start_time": "2018-01-24T05:04:04.816370Z"
    },
    "collapsed": true
   },
   "outputs": [],
   "source": [
    "def train(data_dir, batch_size=128):\n",
    "    \"\"\"Train CIFAR-10 model.\"\"\"\n",
    "    train_images, train_labels = train_inputs(data_dir, batch_size)\n",
    "    with tf.variable_scope(\"logits\"), tf.name_scope(\"train\") as scope:\n",
    "        global_step = tf.get_variable(\n",
    "            'global_step', [],\n",
    "            initializer=tf.constant_initializer(0), trainable=False)\n",
    "        train_logits = inference(train_images, batch_size=batch_size)\n",
    "        _loss = loss(train_logits, train_labels)\n",
    "        # Assemble all of the losses for the current tower only.\n",
    "        losses = tf.get_collection('losses', scope)\n",
    "        # Calculate the total loss for the current tower.\n",
    "        total_loss = tf.add_n(losses, name='total_loss')\n",
    "        # Generate moving averages of all losses and associated summaries.\n",
    "        loss_averages_op = _add_loss_summaries(total_loss)\n",
    "        # Compute gradients.\n",
    "        with tf.control_dependencies([loss_averages_op]):\n",
    "            # Adam\n",
    "            opt = tf.train.AdamOptimizer(learning_rate=INITIAL_LEARNING_RATE)\n",
    "            grads = opt.compute_gradients(total_loss)\n",
    "        # Apply gradients.\n",
    "        train_op = opt.apply_gradients(grads, global_step=global_step)\n",
    "\n",
    "        # Add histograms for trainable variables.\n",
    "        for var in tf.trainable_variables():\n",
    "            tf.summary.histogram(var.op.name, var)\n",
    "\n",
    "        # Add histograms for gradients.\n",
    "        for grad, var in grads:\n",
    "            if grad is not None:\n",
    "                tf.summary.histogram(var.op.name + '/gradients', grad)\n",
    "\n",
    "        return train_op, train_logits, total_loss"
   ]
  },
  {
   "cell_type": "code",
   "execution_count": null,
   "metadata": {
    "ExecuteTime": {
     "end_time": "2018-01-24T05:04:08.244020Z",
     "start_time": "2018-01-24T05:04:08.232408Z"
    },
    "collapsed": true
   },
   "outputs": [],
   "source": [
    "def validate(data_dir, batch_size=128, train=True):\n",
    "    \"\"\"Validate CIFAR-10 model.\"\"\"\n",
    "    test_images, test_labels = test_inputs(data_dir, batch_size, train=train)\n",
    "    with tf.variable_scope(\"logits\", reuse=True), tf.name_scope(\"test\") as scope:\n",
    "        test_logits = inference(test_images, batch_size=batch_size)\n",
    "    test_op = tf.nn.in_top_k(test_logits, test_labels, 1)\n",
    "\n",
    "    return test_op, test_logits"
   ]
  },
  {
   "cell_type": "code",
   "execution_count": null,
   "metadata": {
    "ExecuteTime": {
     "end_time": "2018-01-24T05:04:10.371886Z",
     "start_time": "2018-01-24T05:04:10.360917Z"
    },
    "collapsed": true
   },
   "outputs": [],
   "source": [
    "def evaluate(sess, test_op, batch_size):\n",
    "    num_iter = np.ceil(NUM_EXAMPLES_PER_EPOCH_FOR_EVAL / batch_size)\n",
    "    true_count = 0  # Counts the number of correct predictions.\n",
    "    total_sample_count = num_iter * batch_size\n",
    "    for step in range(int(num_iter)):\n",
    "        _predictions = sess.run([test_op])\n",
    "        true_count += np.sum(_predictions)\n",
    "\n",
    "    precision = true_count / total_sample_count\n",
    "    # print('%s: precision @ 1 = %.3f' % (datetime.now(), precision))\n",
    "    return precision"
   ]
  },
  {
   "cell_type": "code",
   "execution_count": null,
   "metadata": {
    "ExecuteTime": {
     "end_time": "2018-01-24T05:04:12.449752Z",
     "start_time": "2018-01-24T05:04:12.446460Z"
    },
    "collapsed": true
   },
   "outputs": [],
   "source": [
    "train_dir = './train'\n",
    "max_steps = 1000"
   ]
  },
  {
   "cell_type": "code",
   "execution_count": null,
   "metadata": {
    "ExecuteTime": {
     "end_time": "2018-01-24T05:04:13.349490Z",
     "start_time": "2018-01-24T05:04:13.346248Z"
    },
    "collapsed": true
   },
   "outputs": [],
   "source": [
    "data_dir = os.path.join('./', 'cifar-10-batches-bin')\n",
    "batch_size = 128"
   ]
  },
  {
   "cell_type": "code",
   "execution_count": null,
   "metadata": {
    "ExecuteTime": {
     "end_time": "2018-01-24T05:04:17.156355Z",
     "start_time": "2018-01-24T05:04:15.897553Z"
    },
    "collapsed": true
   },
   "outputs": [],
   "source": [
    "# Build inference Graph for Training / Test / Evaluation.\n",
    "with tf.Graph().as_default():\n",
    "    train_op, train_logits, total_loss = train(data_dir, batch_size=batch_size)\n",
    "    # Retain the summaries and Build the summary operation.\n",
    "    summaries = tf.get_collection(tf.GraphKeys.SUMMARIES)\n",
    "    train_summary_op = tf.summary.merge(summaries)\n",
    "    # Build an initialization operation to run below.\n",
    "    init = tf.global_variables_initializer()\n",
    "    \n",
    "    test_op, test_logits = validate(data_dir, batch_size=1000, train=True)\n",
    "    \n",
    "    eval_op, eval_logits = validate(data_dir, batch_size=1000, train=False)\n",
    "\n",
    "    # Create a saver.\n",
    "    saver = tf.train.Saver(tf.global_variables())"
   ]
  },
  {
   "cell_type": "code",
   "execution_count": null,
   "metadata": {
    "ExecuteTime": {
     "end_time": "2018-01-24T05:04:19.774074Z",
     "start_time": "2018-01-24T05:04:19.770403Z"
    },
    "collapsed": true
   },
   "outputs": [],
   "source": [
    "checkpoint_path = os.path.join(train_dir, 'model.ckpt')"
   ]
  },
  {
   "cell_type": "code",
   "execution_count": null,
   "metadata": {
    "ExecuteTime": {
     "end_time": "2018-01-24T05:04:22.502554Z",
     "start_time": "2018-01-24T05:04:22.018093Z"
    },
    "collapsed": true
   },
   "outputs": [],
   "source": [
    "# sess = tf.Session()\n",
    "sess = tf.InteractiveSession(graph=train_op.graph)\n",
    "sess.run(init)"
   ]
  },
  {
   "cell_type": "code",
   "execution_count": null,
   "metadata": {
    "ExecuteTime": {
     "end_time": "2018-01-24T05:04:25.880499Z",
     "start_time": "2018-01-24T05:04:25.844634Z"
    },
    "collapsed": true
   },
   "outputs": [],
   "source": [
    "# Start the queue runners.\n",
    "tf.train.start_queue_runners(sess=sess)"
   ]
  },
  {
   "cell_type": "code",
   "execution_count": null,
   "metadata": {
    "ExecuteTime": {
     "end_time": "2018-01-24T05:04:32.716819Z",
     "start_time": "2018-01-24T05:04:31.197343Z"
    },
    "collapsed": true
   },
   "outputs": [],
   "source": [
    "summary_dir = './summary'\n",
    "summary_train_dir = os.path.join(summary_dir, 'train')\n",
    "summary_writer = tf.summary.FileWriter(summary_train_dir, sess.graph)"
   ]
  },
  {
   "cell_type": "code",
   "execution_count": null,
   "metadata": {
    "ExecuteTime": {
     "end_time": "2018-01-24T07:43:56.143025Z",
     "start_time": "2018-01-24T07:43:54.757090Z"
    },
    "collapsed": true
   },
   "outputs": [],
   "source": [
    "summary_eval_dir = os.path.join(summary_dir, 'eval')\n",
    "eval_summary_writer = tf.summary.FileWriter(summary_eval_dir, sess.graph)"
   ]
  },
  {
   "cell_type": "code",
   "execution_count": null,
   "metadata": {
    "ExecuteTime": {
     "end_time": "2018-01-24T06:04:07.876731Z",
     "start_time": "2018-01-24T05:04:33.578047Z"
    },
    "collapsed": true
   },
   "outputs": [],
   "source": [
    "for step in range(max_steps):\n",
    "    start_time = time.time()\n",
    "    _, loss_value = sess.run([train_op, total_loss])\n",
    "    duration = time.time() - start_time\n",
    "    assert not np.isnan(loss_value), 'Model diverged with loss = NaN'\n",
    "\n",
    "    if step % 10 == 0:\n",
    "        num_examples_per_step = batch_size\n",
    "        examples_per_sec = num_examples_per_step / duration\n",
    "        sec_per_batch = duration\n",
    "\n",
    "        format_str = ('%s: step %d, loss = %.2f (%.1f examples/sec; %.3f '\n",
    "                                    'sec/batch)')\n",
    "        print (format_str % (datetime.now(), step, loss_value,\n",
    "                                                 examples_per_sec, sec_per_batch))\n",
    "\n",
    "    if step % 100 == 0:\n",
    "        test_prec = evaluate(sess, test_op, 1000)\n",
    "        print('%s: accuracy (train) = %.3f' % (datetime.now(), test_prec))\n",
    "\n",
    "        eval_prec = evaluate(sess, eval_op, 1000)\n",
    "        print('%s: accuracy (eval) = %.3f' % (datetime.now(), eval_prec))\n",
    "\n",
    "        summary_str = sess.run(train_summary_op)\n",
    "        summary = tf.Summary()\n",
    "        summary.ParseFromString(summary_str)\n",
    "        summary.value.add(tag='Accuracy', simple_value=test_prec)\n",
    "        summary_writer.add_summary(summary, step)\n",
    "        eval_summary = tf.Summary()\n",
    "        eval_summary.value.add(tag='Accuracy', simple_value=eval_prec)\n",
    "        eval_summary_writer.add_summary(eval_summary, step)\n",
    "\n",
    "    # Save the model checkpoint periodically.\n",
    "    if step % 100 == 0 or (step + 1) == max_steps:\n",
    "        saver.save(sess, checkpoint_path, global_step=step)\n"
   ]
  },
  {
   "cell_type": "code",
   "execution_count": null,
   "metadata": {
    "ExecuteTime": {
     "end_time": "2018-01-24T07:36:36.055732Z",
     "start_time": "2018-01-24T07:32:14.166101Z"
    },
    "collapsed": true
   },
   "outputs": [],
   "source": [
    "summary_writer.close()\n",
    "eval_summary_writer.close()"
   ]
  },
  {
   "cell_type": "code",
   "execution_count": null,
   "metadata": {
    "collapsed": true
   },
   "outputs": [],
   "source": []
  }
 ],
 "metadata": {
  "kernelspec": {
   "display_name": "Python 3",
   "language": "python",
   "name": "python3"
  },
  "language_info": {
   "codemirror_mode": {
    "name": "ipython",
    "version": 3
   },
   "file_extension": ".py",
   "mimetype": "text/x-python",
   "name": "python",
   "nbconvert_exporter": "python",
   "pygments_lexer": "ipython3",
   "version": "3.5.2"
  }
 },
 "nbformat": 4,
 "nbformat_minor": 2
}
